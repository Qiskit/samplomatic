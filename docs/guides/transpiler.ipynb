{
 "cells": [
  {
   "cell_type": "markdown",
   "id": "157f8340",
   "metadata": {},
   "source": [
    "Transpilers\n",
    "===========\n",
    "\n",
    "{func}`samplomatic.transpiler.generate_boxing_pass_manager`"
   ]
  },
  {
   "cell_type": "markdown",
   "id": "6402f11f",
   "metadata": {},
   "source": []
  }
 ],
 "metadata": {
  "language_info": {
   "name": "python"
  }
 },
 "nbformat": 4,
 "nbformat_minor": 5
}
